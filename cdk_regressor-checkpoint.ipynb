{
 "cells": [
  {
   "cell_type": "code",
   "execution_count": 1,
   "metadata": {},
   "outputs": [],
   "source": [
    "import numpy as np\n",
    "import pandas as pd\n",
    "from math import sqrt\n",
    "from sklearn.metrics import mean_absolute_error\n",
    "from sklearn.metrics import r2_score\n",
    "from sklearn.metrics import mean_squared_error\n",
    "from sklearn.model_selection import train_test_split\n",
    "from sklearn.neural_network import MLPRegressor\n",
    "import matplotlib.pyplot as plt\n",
    "import random \n",
    "from sklearn.preprocessing import StandardScaler"
   ]
  },
  {
   "cell_type": "code",
   "execution_count": 3,
   "metadata": {},
   "outputs": [],
   "source": [
    "df=pd.read_csv(\"C:\\\\Users\\\\admin\\\\Downloads\\\\6.csv\")"
   ]
  },
  {
   "cell_type": "code",
   "execution_count": 9,
   "metadata": {},
   "outputs": [
    {
     "data": {
      "text/plain": [
       "(162, 225)"
      ]
     },
     "execution_count": 9,
     "metadata": {},
     "output_type": "execute_result"
    }
   ],
   "source": [
    "df.shape"
   ]
  },
  {
   "cell_type": "code",
   "execution_count": 24,
   "metadata": {
    "scrolled": true
   },
   "outputs": [
    {
     "data": {
      "text/plain": [
       "['BCUTw-1h',\n",
       " 'naAromAtom',\n",
       " 'nRings6',\n",
       " 'SPC-6',\n",
       " 'MDEC-34',\n",
       " 'XLogP',\n",
       " 'BCUTw-1l',\n",
       " 'ATSc5',\n",
       " 'MLogP',\n",
       " 'khs.tCH',\n",
       " 'C1SP2',\n",
       " 'C4SP3',\n",
       " 'khs.dsCH',\n",
       " 'khs.sCH3',\n",
       " 'Zagreb',\n",
       " 'nSmallRings',\n",
       " 'ATSm2',\n",
       " 'MDEC-12',\n",
       " 'ATSp2',\n",
       " 'nRings3',\n",
       " 'khs.ssssC',\n",
       " 'Density',\n",
       " 'ATSc2',\n",
       " 'MDEC-13',\n",
       " 'SP-6',\n",
       " 'ATSp1',\n",
       " 'VP-0',\n",
       " 'C1SP3',\n",
       " 'tpsaEfficiency',\n",
       " 'fragC',\n",
       " 'khs.aaaC',\n",
       " 'ATSp3',\n",
       " 'khs.sssCH',\n",
       " 'nAromRings',\n",
       " 'SC-5',\n",
       " 'VC-4',\n",
       " 'VABC',\n",
       " 'ATSc4',\n",
       " 'VCH-7',\n",
       " 'nAtom',\n",
       " 'SP-5',\n",
       " 'SP-0',\n",
       " 'SP-1',\n",
       " 'VC-6',\n",
       " 'MDEC-44',\n",
       " 'SCH-5',\n",
       " 'MW',\n",
       " 'VCH-6',\n",
       " 'SP-4',\n",
       " 'VP-4',\n",
       " 'MDEC-22',\n",
       " 'VPC-5',\n",
       " 'nRings5',\n",
       " 'ALogP',\n",
       " 'nRings9',\n",
       " 'SCH-3',\n",
       " 'C1SP1',\n",
       " 'VP-5',\n",
       " 'C3SP2',\n",
       " 'VP-6',\n",
       " 'VCH-5',\n",
       " 'SP-2',\n",
       " 'ATSm1',\n",
       " 'SC-3',\n",
       " 'HybRatio',\n",
       " 'VCH-3',\n",
       " 'ATSm3',\n",
       " 'BCUTc-1l',\n",
       " 'khs.aasC',\n",
       " 'nAtomLC',\n",
       " 'ALogp2',\n",
       " 'khs.dssC',\n",
       " 'VC-5',\n",
       " 'BCUTc-1h',\n",
       " 'nB',\n",
       " 'nRingBlocks',\n",
       " 'VP-7',\n",
       " 'nAromBond',\n",
       " 'SPC-4',\n",
       " 'MDEC-24',\n",
       " 'khs.aaCH',\n",
       " 'MDEC-11',\n",
       " 'MDEC-33',\n",
       " 'VC-3',\n",
       " 'VCH-4',\n",
       " 'nRings7',\n",
       " 'topoShape',\n",
       " 'WPATH',\n",
       " 'LipinskiFailures',\n",
       " 'FMF',\n",
       " 'PetitjeanNumber',\n",
       " 'nAtomLAC',\n",
       " 'SCH-7',\n",
       " 'C2SP3',\n",
       " 'C2SP2',\n",
       " 'C3SP3',\n",
       " 'MDEC-14',\n",
       " 'khs.tsC',\n",
       " 'SC-6',\n",
       " 'VP-3',\n",
       " 'WTPT-1',\n",
       " 'BCUTp-1l',\n",
       " 'BCUTp-1h',\n",
       " 'MDEC-23',\n",
       " 'ATSp5',\n",
       " 'SCH-4',\n",
       " 'C2SP1',\n",
       " 'SC-4',\n",
       " 'nRings4',\n",
       " 'SCH-6',\n",
       " 'ATSm5',\n",
       " 'Kier3',\n",
       " 'ATSc1',\n",
       " 'SPC-5',\n",
       " 'ECCEN',\n",
       " 'WPOL',\n",
       " 'nAromBlocks',\n",
       " 'Kier2',\n",
       " 'VPC-6',\n",
       " 'SP-3',\n",
       " 'bpol',\n",
       " 'AMR',\n",
       " 'nRings8',\n",
       " 'ATSm4',\n",
       " 'WTPT-2',\n",
       " 'nRotB',\n",
       " 'VAdjMat',\n",
       " 'SP-7',\n",
       " 'VP-1',\n",
       " 'ATSp4',\n",
       " 'apol',\n",
       " 'VPC-4',\n",
       " 'ATSc3',\n",
       " 'khs.dCH2',\n",
       " 'VP-2',\n",
       " 'nAtomP',\n",
       " 'khs.ssCH2',\n",
       " 'Kier1']"
      ]
     },
     "execution_count": 24,
     "metadata": {},
     "output_type": "execute_result"
    }
   ],
   "source": [
    "columns_to_remove =['nAcid','nBase','WTPT-3','WTPT-4','WTPT-5','TopoPSA','MDEO-11','MDEO-12','MDEO-22','MDEN-11','MDEN-13','MDEN-12','MDEN-22','MDEN-23','MDEN-33','khs.sLi','khs.ssBe','khs.ssssBe','khs.ssBH','khs.sssB',\n",
    "                   'khs.ssssB','khs.ddC','khs.sNH3','khs.sNH2','khs.ssNH2','khs.dNH','khs.ssNH','khs.aaNH','khs.tN','khs.sssNH','khs.dsN','khs.aaN','khs.sssN','khs.ddsN','khs.aasN','khs.ssssN','khs.sOH','khs.dO','khs.ssO',\n",
    "                   'khs.aaO','khs.sF','khs.sSiH3','khs.ssSiH2','khs.sssSiH','khs.ssssSi','khs.sPH2','khs.ssPH','khs.sssP','khs.dsssP','khs.sssssP','khs.sSH','khs.dS','khs.ssS','khs.aaS','khs.dssS','khs.ddssS','khs.sCl','khs.sGeH3','khs.ssGeH2',\n",
    "                    'khs.sssGeH','khs.ssssGe','khs.sAsH2','khs.ssAsH','khs.sssAs','khs.sssdAs','khs.sssssAs','khs.sSeH','khs.dSe','khs.ssSe','khs.aaSe','khs.dssSe','khs.ddssSe','khs.sBr','khs.sSnH3','khs.ssSnH2','khs.sssSnH','khs.ssssSn','khs.sI','khs.sPbH3','khs.ssPbH2',\n",
    "                    'khs.sssPbH','khs.ssssPb','nHBDon','nHBAcc','molname','smiles','Name']\n",
    "columns_to_retain = list(set(df.columns)-set(columns_to_remove))\n",
    "df = df[columns_to_retain]\n",
    "columns_to_retain\n",
    "                    "
   ]
  },
  {
   "cell_type": "code",
   "execution_count": 31,
   "metadata": {
    "scrolled": true
   },
   "outputs": [
    {
     "data": {
      "text/plain": [
       "(162, 138)"
      ]
     },
     "execution_count": 31,
     "metadata": {},
     "output_type": "execute_result"
    }
   ],
   "source": [
    "f1=df.loc[:,columns_to_retain]\n",
    "c=list(f1.head(1))\n",
    "f1.shape"
   ]
  },
  {
   "cell_type": "code",
   "execution_count": 30,
   "metadata": {},
   "outputs": [],
   "source": [
    "x =np.nan_to_num(f1)\n",
    "y = df.loc[:,'Density']\n",
    "x1 =x\n",
    "y1 = df.loc[:,'Density']"
   ]
  },
  {
   "cell_type": "code",
   "execution_count": 32,
   "metadata": {},
   "outputs": [],
   "source": [
    "x,x_internal_test,y,y_internal_test = train_test_split(x,y,test_size=0.3,random_state=41)\n",
    "x_train,x_external_test,y_train,y_external_test = train_test_split(x,y,test_size=0.3,random_state=41)"
   ]
  },
  {
   "cell_type": "code",
   "execution_count": 33,
   "metadata": {},
   "outputs": [],
   "source": [
    "sc=StandardScaler()\n",
    "x_train=sc.fit_transform(x_train)\n",
    "x_internal_test=sc.fit_transform(x_internal_test)\n",
    "x_external_test=sc.fit_transform(x_external_test)\n",
    "x=sc.fit(x).transform(x)\n",
    "x1=sc.fit(x1).transform(x1)"
   ]
  },
  {
   "cell_type": "code",
   "execution_count": 34,
   "metadata": {},
   "outputs": [
    {
     "data": {
      "text/plain": [
       "MLPRegressor(activation='tanh', alpha=0.0001, batch_size='auto', beta_1=0.9,\n",
       "       beta_2=0.999, early_stopping=False, epsilon=1e-08,\n",
       "       hidden_layer_sizes=(20, 20, 20), learning_rate='constant',\n",
       "       learning_rate_init=0.001, max_iter=200, momentum=0.9,\n",
       "       n_iter_no_change=10, nesterovs_momentum=True, power_t=0.5,\n",
       "       random_state=1, shuffle=True, solver='sgd', tol=0.0001,\n",
       "       validation_fraction=0.1, verbose=False, warm_start=False)"
      ]
     },
     "execution_count": 34,
     "metadata": {},
     "output_type": "execute_result"
    }
   ],
   "source": [
    "nn=MLPRegressor(activation='tanh', solver='sgd', hidden_layer_sizes=(20,20,20),random_state=1)\n",
    "nn.fit(x_train,y_train)"
   ]
  },
  {
   "cell_type": "code",
   "execution_count": 35,
   "metadata": {},
   "outputs": [],
   "source": [
    "yp=nn.predict(x_train)\n",
    "yp1=nn.predict(x_internal_test)\n",
    "yp2=nn.predict(x_external_test)\n",
    "yp3=nn.predict(x1)\n",
    "\n",
    "r21=r2_score(y_train,yp)\n",
    "r22=r2_score(y_internal_test,yp1)\n",
    "r23=r2_score(y_external_test,yp2)\n",
    "r24=r2_score(y1,yp3)\n",
    "\n",
    "rms = sqrt(mean_squared_error(y_train, yp))\n",
    "rms1 = sqrt(mean_squared_error(y_internal_test,yp1))\n",
    "rms2 = sqrt(mean_squared_error(y_external_test,yp2))\n",
    "rms3 = sqrt(mean_squared_error(y1,yp3))\n",
    "\n",
    "mea = mean_absolute_error(y_train,yp)\n",
    "mea1 = mean_absolute_error(y_internal_test,yp1)\n",
    "mea2 = mean_absolute_error(y_external_test,yp2)\n",
    "mea3 = mean_absolute_error(y1,yp3)"
   ]
  },
  {
   "cell_type": "code",
   "execution_count": 36,
   "metadata": {},
   "outputs": [
    {
     "name": "stdout",
     "output_type": "stream",
     "text": [
      "r^2 test =  -1.2931268718628308\n",
      "r^2 overall =  -0.4140882986904242\n"
     ]
    }
   ],
   "source": [
    "print('r^2 test = ',r23)\n",
    "print('r^2 overall = ',r24)"
   ]
  },
  {
   "cell_type": "code",
   "execution_count": 37,
   "metadata": {},
   "outputs": [
    {
     "name": "stdout",
     "output_type": "stream",
     "text": [
      "RMSE (test) =  0.24191008384910784\n",
      "RMSE (overall) =  0.21092577334839588\n"
     ]
    }
   ],
   "source": [
    "print('RMSE (test) = ',rms2)\n",
    "print('RMSE (overall) = ',rms3)"
   ]
  },
  {
   "cell_type": "code",
   "execution_count": 38,
   "metadata": {},
   "outputs": [
    {
     "name": "stdout",
     "output_type": "stream",
     "text": [
      "Mean Absolute error (test) =  0.18400035793694447\n",
      "Mean Absolute error (overall) =  0.14516114186894988\n"
     ]
    }
   ],
   "source": [
    "print('Mean Absolute error (test) = ',mea2)\n",
    "print('Mean Absolute error (overall) = ',mea3)"
   ]
  },
  {
   "cell_type": "code",
   "execution_count": 42,
   "metadata": {},
   "outputs": [
    {
     "data": {
      "text/plain": [
       "[<matplotlib.lines.Line2D at 0x169063ba4e0>]"
      ]
     },
     "execution_count": 42,
     "metadata": {},
     "output_type": "execute_result"
    },
    {
     "data": {
      "image/png": "[encoded data removed]",
      "text/plain": [
       "<Figure size 432x288 with 1 Axes>"
      ]
     },
     "metadata": {
      "needs_background": "light"
     },
     "output_type": "display_data"
    }
   ],
   "source": [
    "import matplotlib.pyplot as plt\n",
    "plt.scatter(y_external_test,yp2)\n",
    "plt.plot([-1,y_external_test.max()],[-1,yp2.max()],ls=\"--\",c=\".3\")"
   ]
  },
  {
   "cell_type": "code",
   "execution_count": null,
   "metadata": {},
   "outputs": [],
   "source": []
  }
 ],
 "metadata": {
  "kernelspec": {
   "display_name": "Python 3",
   "language": "python",
   "name": "python3"
  },
  "language_info": {
   "codemirror_mode": {
    "name": "ipython",
    "version": 3
   },
   "file_extension": ".py",
   "mimetype": "text/x-python",
   "name": "python",
   "nbconvert_exporter": "python",
   "pygments_lexer": "ipython3",
   "version": "3.7.3"
  }
 },
 "nbformat": 4,
 "nbformat_minor": 2
}
