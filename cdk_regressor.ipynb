{
 "cells": [
  {
   "cell_type": "code",
   "execution_count": 17,
   "metadata": {},
   "outputs": [],
   "source": [
    "import numpy as np\n",
    "import pandas as pd\n",
    "from math import sqrt\n",
    "from sklearn.metrics import mean_absolute_error\n",
    "from sklearn.metrics import r2_score\n",
    "from sklearn.metrics import mean_squared_error\n",
    "from sklearn.model_selection import train_test_split\n",
    "from sklearn.neural_network import MLPRegressor\n",
    "import matplotlib.pyplot as plt\n",
    "import random \n",
    "from sklearn.preprocessing import StandardScaler"
   ]
  },
  {
   "cell_type": "code",
   "execution_count": 18,
   "metadata": {},
   "outputs": [],
   "source": [
    "import xgboost as xgb"
   ]
  },
  {
   "cell_type": "code",
   "execution_count": 85,
   "metadata": {},
   "outputs": [],
   "source": [
    "df=pd.read_csv(\"C:\\\\Users\\\\admin\\\\Downloads\\\\Cdk.csv\")"
   ]
  },
  {
   "cell_type": "code",
   "execution_count": 86,
   "metadata": {},
   "outputs": [
    {
     "data": {
      "text/plain": [
       "(162, 225)"
      ]
     },
     "execution_count": 86,
     "metadata": {},
     "output_type": "execute_result"
    }
   ],
   "source": [
    "df.shape"
   ]
  },
  {
   "cell_type": "code",
   "execution_count": 87,
   "metadata": {
    "scrolled": true
   },
   "outputs": [
    {
     "data": {
      "text/plain": [
       "['khs.aaaC',\n",
       " 'nAromBond',\n",
       " 'VC-6',\n",
       " 'nAtomP',\n",
       " 'nAtom',\n",
       " 'WPATH',\n",
       " 'khs.aaCH',\n",
       " 'nAromBlocks',\n",
       " 'AMR',\n",
       " 'nRotB',\n",
       " 'VP-4',\n",
       " 'SP-0',\n",
       " 'VP-6',\n",
       " 'nRings8',\n",
       " 'BCUTc-1h',\n",
       " 'SC-4',\n",
       " 'nRings5',\n",
       " 'MDEC-11',\n",
       " 'MLogP',\n",
       " 'ALogp2',\n",
       " 'ATSc3',\n",
       " 'VABC',\n",
       " 'SP-2',\n",
       " 'ATSp5',\n",
       " 'WTPT-2',\n",
       " 'C4SP3',\n",
       " 'ATSp1',\n",
       " 'HybRatio',\n",
       " 'apol',\n",
       " 'ECCEN',\n",
       " 'nB',\n",
       " 'tpsaEfficiency',\n",
       " 'nAtomLAC',\n",
       " 'bpol',\n",
       " 'BCUTp-1h',\n",
       " 'MDEC-24',\n",
       " 'khs.dsCH',\n",
       " 'SCH-3',\n",
       " 'SP-5',\n",
       " 'ATSm2',\n",
       " 'MDEC-34',\n",
       " 'ATSm3',\n",
       " 'ATSm5',\n",
       " 'ATSc5',\n",
       " 'nRingBlocks',\n",
       " 'MDEC-23',\n",
       " 'khs.sCH3',\n",
       " 'SC-5',\n",
       " 'BCUTw-1h',\n",
       " 'ATSm4',\n",
       " 'VC-5',\n",
       " 'BCUTp-1l',\n",
       " 'WTPT-1',\n",
       " 'FMF',\n",
       " 'MDEC-14',\n",
       " 'SPC-6',\n",
       " 'fragC',\n",
       " 'nAromRings',\n",
       " 'khs.dssC',\n",
       " 'VCH-4',\n",
       " 'VCH-3',\n",
       " 'SPC-4',\n",
       " 'SCH-7',\n",
       " 'Kier1',\n",
       " 'VPC-6',\n",
       " 'SP-6',\n",
       " 'ATSc2',\n",
       " 'BCUTw-1l',\n",
       " 'C2SP3',\n",
       " 'SP-4',\n",
       " 'PetitjeanNumber',\n",
       " 'VCH-6',\n",
       " 'nAtomLC',\n",
       " 'ATSm1',\n",
       " 'VP-1',\n",
       " 'khs.dCH2',\n",
       " 'naAromAtom',\n",
       " 'SC-6',\n",
       " 'khs.tCH',\n",
       " 'khs.tsC',\n",
       " 'SP-3',\n",
       " 'Kier3',\n",
       " 'C2SP1',\n",
       " 'khs.sssCH',\n",
       " 'nRings4',\n",
       " 'SCH-5',\n",
       " 'khs.ssCH2',\n",
       " 'VAdjMat',\n",
       " 'khs.ssssC',\n",
       " 'VP-7',\n",
       " 'nRings6',\n",
       " 'Kier2',\n",
       " 'SP-1',\n",
       " 'C2SP2',\n",
       " 'nRings9',\n",
       " 'SC-3',\n",
       " 'nSmallRings',\n",
       " 'VPC-4',\n",
       " 'nRings3',\n",
       " 'VP-3',\n",
       " 'MDEC-13',\n",
       " 'MDEC-12',\n",
       " 'XLogP',\n",
       " 'VP-0',\n",
       " 'Zagreb',\n",
       " 'SP-7',\n",
       " 'topoShape',\n",
       " 'VP-5',\n",
       " 'SPC-5',\n",
       " 'MDEC-22',\n",
       " 'MDEC-44',\n",
       " 'C1SP2',\n",
       " 'VCH-7',\n",
       " 'ATSp4',\n",
       " 'ATSc4',\n",
       " 'MDEC-33',\n",
       " 'ALogP',\n",
       " 'VC-4',\n",
       " 'C1SP1',\n",
       " 'LipinskiFailures',\n",
       " 'SCH-4',\n",
       " 'WPOL',\n",
       " 'VC-3',\n",
       " 'BCUTc-1l',\n",
       " 'nRings7',\n",
       " 'C3SP2',\n",
       " 'ATSc1',\n",
       " 'ATSp2',\n",
       " 'khs.aasC',\n",
       " 'VCH-5',\n",
       " 'C3SP3',\n",
       " 'VPC-5',\n",
       " 'C1SP3',\n",
       " 'ATSp3',\n",
       " 'SCH-6',\n",
       " 'MW',\n",
       " 'VP-2']"
      ]
     },
     "execution_count": 87,
     "metadata": {},
     "output_type": "execute_result"
    }
   ],
   "source": [
    "columns_to_remove =['nAcid','nBase','WTPT-3','WTPT-4','WTPT-5','TopoPSA','MDEO-11','MDEO-12','MDEO-22','MDEN-11','MDEN-13','MDEN-12','MDEN-22','MDEN-23','MDEN-33','khs.sLi','khs.ssBe','khs.ssssBe','khs.ssBH','khs.sssB',\n",
    "                   'khs.ssssB','khs.ddC','khs.sNH3','khs.sNH2','khs.ssNH2','khs.dNH','khs.ssNH','khs.aaNH','khs.tN','khs.sssNH','khs.dsN','khs.aaN','khs.sssN','khs.ddsN','khs.aasN','khs.ssssN','khs.sOH','khs.dO','khs.ssO',\n",
    "                   'khs.aaO','khs.sF','khs.sSiH3','khs.ssSiH2','khs.sssSiH','khs.ssssSi','khs.sPH2','khs.ssPH','khs.sssP','khs.dsssP','khs.sssssP','khs.sSH','khs.dS','khs.ssS','khs.aaS','khs.dssS','khs.ddssS','khs.sCl','khs.sGeH3','khs.ssGeH2',\n",
    "                    'khs.sssGeH','khs.ssssGe','khs.sAsH2','khs.ssAsH','khs.sssAs','khs.sssdAs','khs.sssssAs','khs.sSeH','khs.dSe','khs.ssSe','khs.aaSe','khs.dssSe','khs.ddssSe','khs.sBr','khs.sSnH3','khs.ssSnH2','khs.sssSnH','khs.ssssSn','khs.sI','khs.sPbH3','khs.ssPbH2',\n",
    "                    'khs.sssPbH','khs.ssssPb','nHBDon','nHBAcc','molname','smiles','Name','Density']\n",
    "columns_to_retain = list(set(df.columns)-set(columns_to_remove))\n",
    "columns_to_retain\n",
    "                    "
   ]
  },
  {
   "cell_type": "code",
   "execution_count": 88,
   "metadata": {
    "scrolled": true
   },
   "outputs": [
    {
     "data": {
      "text/plain": [
       "(162, 137)"
      ]
     },
     "execution_count": 88,
     "metadata": {},
     "output_type": "execute_result"
    }
   ],
   "source": [
    "f1=df.loc[:,columns_to_retain]\n",
    "c=list(f1.head(1))\n",
    "f1.shape"
   ]
  },
  {
   "cell_type": "code",
   "execution_count": 89,
   "metadata": {},
   "outputs": [],
   "source": [
    "x =np.nan_to_num(f1)\n",
    "y = df.loc[:,'Density']\n",
    "x1 =x\n",
    "y1 = df.loc[:,'Density']"
   ]
  },
  {
   "cell_type": "code",
   "execution_count": 90,
   "metadata": {
    "scrolled": true
   },
   "outputs": [
    {
     "data": {
      "text/plain": [
       "0      0.802\n",
       "1      0.877\n",
       "2      0.692\n",
       "3      0.977\n",
       "4      1.283\n",
       "5      0.745\n",
       "6      0.744\n",
       "7      1.350\n",
       "8      0.866\n",
       "9      1.145\n",
       "10     0.684\n",
       "11     0.691\n",
       "12     0.812\n",
       "13     0.679\n",
       "14     0.699\n",
       "15     0.716\n",
       "16     0.741\n",
       "17     0.781\n",
       "18     0.655\n",
       "19     0.650\n",
       "20     0.633\n",
       "21     0.663\n",
       "22     0.673\n",
       "23     0.687\n",
       "24     0.789\n",
       "25     0.641\n",
       "26     0.730\n",
       "27     0.690\n",
       "28     0.698\n",
       "29     0.705\n",
       "       ...  \n",
       "132    0.788\n",
       "133    0.781\n",
       "134    0.862\n",
       "135    1.006\n",
       "136    0.971\n",
       "137    1.310\n",
       "138    0.679\n",
       "139    0.665\n",
       "140    0.776\n",
       "141    0.522\n",
       "142    1.307\n",
       "143    1.063\n",
       "144    0.688\n",
       "145    0.664\n",
       "146    0.662\n",
       "147    0.779\n",
       "148    0.806\n",
       "149    0.854\n",
       "150    0.882\n",
       "151    0.809\n",
       "152    0.726\n",
       "153    0.726\n",
       "154    0.711\n",
       "155    0.735\n",
       "156    0.720\n",
       "157    0.741\n",
       "158    0.744\n",
       "159    0.755\n",
       "160    0.777\n",
       "161    0.900\n",
       "Name: Density, Length: 162, dtype: float64"
      ]
     },
     "execution_count": 90,
     "metadata": {},
     "output_type": "execute_result"
    }
   ],
   "source": [
    "y"
   ]
  },
  {
   "cell_type": "code",
   "execution_count": 91,
   "metadata": {},
   "outputs": [],
   "source": [
    "x,x_internal_test,y,y_internal_test = train_test_split(x,y,test_size=0.3,random_state=41)\n",
    "x_train,x_external_test,y_train,y_external_test = train_test_split(x,y,test_size=0.3,random_state=41)"
   ]
  },
  {
   "cell_type": "code",
   "execution_count": 92,
   "metadata": {},
   "outputs": [],
   "source": [
    "sc=StandardScaler()\n",
    "x_train=sc.fit_transform(x_train)\n",
    "x_internal_test=sc.fit_transform(x_internal_test)\n",
    "x_external_test=sc.fit_transform(x_external_test)\n",
    "x=sc.fit(x).transform(x)\n",
    "x1=sc.fit(x1).transform(x1)"
   ]
  },
  {
   "cell_type": "code",
   "execution_count": 93,
   "metadata": {},
   "outputs": [
    {
     "data": {
      "text/plain": [
       "(113, 137)"
      ]
     },
     "execution_count": 93,
     "metadata": {},
     "output_type": "execute_result"
    }
   ],
   "source": [
    "x.shape"
   ]
  },
  {
   "cell_type": "code",
   "execution_count": 100,
   "metadata": {},
   "outputs": [
    {
     "data": {
      "text/plain": [
       "MLPRegressor(activation='tanh', alpha=0.0001, batch_size='auto', beta_1=0.9,\n",
       "       beta_2=0.999, early_stopping=False, epsilon=1e-08,\n",
       "       hidden_layer_sizes=(20, 20, 20), learning_rate='constant',\n",
       "       learning_rate_init=0.001, max_iter=200, momentum=0.9,\n",
       "       n_iter_no_change=10, nesterovs_momentum=True, power_t=0.5,\n",
       "       random_state=1, shuffle=True, solver='sgd', tol=0.0001,\n",
       "       validation_fraction=0.1, verbose=False, warm_start=False)"
      ]
     },
     "execution_count": 100,
     "metadata": {},
     "output_type": "execute_result"
    }
   ],
   "source": [
    "nn=MLPRegressor(activation='tanh', solver='sgd', hidden_layer_sizes=(20,20,20),random_state=1)\n",
    "nn.fit(x_train,y_train)"
   ]
  },
  {
   "cell_type": "code",
   "execution_count": 116,
   "metadata": {},
   "outputs": [
    {
     "name": "stdout",
     "output_type": "stream",
     "text": [
      "[11:44:29] WARNING: src/objective/regression_obj.cu:152: reg:linear is now deprecated in favor of reg:squarederror.\n"
     ]
    },
    {
     "name": "stderr",
     "output_type": "stream",
     "text": [
      "C:\\Users\\admin\\Anaconda3\\lib\\site-packages\\xgboost\\core.py:587: FutureWarning: Series.base is deprecated and will be removed in a future version\n",
      "  if getattr(data, 'base', None) is not None and \\\n"
     ]
    },
    {
     "data": {
      "text/plain": [
       "XGBRegressor(base_score=0.5, booster='gbtree', colsample_bylevel=1,\n",
       "       colsample_bynode=1, colsample_bytree=1, gamma=0,\n",
       "       importance_type='gain', learning_rate=0.1, max_delta_step=0,\n",
       "       max_depth=3, min_child_weight=1, missing=None, n_estimators=100,\n",
       "       n_jobs=1, nthread=None, objective='reg:linear', random_state=0,\n",
       "       reg_alpha=0, reg_lambda=1, scale_pos_weight=1, seed=None,\n",
       "       silent=None, subsample=1, verbosity=1)"
      ]
     },
     "execution_count": 116,
     "metadata": {},
     "output_type": "execute_result"
    }
   ],
   "source": [
    "model = xgb.XGBRegressor()\n",
    "model.fit(x_train,y_train)"
   ]
  },
  {
   "cell_type": "code",
   "execution_count": 101,
   "metadata": {},
   "outputs": [],
   "source": [
    "yp=nn.predict(x_train)\n",
    "yp1=nn.predict(x_internal_test)\n",
    "yp2=nn.predict(x_external_test)\n",
    "yp3=nn.predict(x1)\n",
    "\n",
    "r21=r2_score(y_train,yp)\n",
    "r22=r2_score(y_internal_test,yp1)\n",
    "r23=r2_score(y_external_test,yp2)\n",
    "r24=r2_score(y1,yp3)\n",
    "\n",
    "rms = sqrt(mean_squared_error(y_train, yp))\n",
    "rms1 = sqrt(mean_squared_error(y_internal_test,yp1))\n",
    "rms2 = sqrt(mean_squared_error(y_external_test,yp2))\n",
    "rms3 = sqrt(mean_squared_error(y1,yp3))\n",
    "\n",
    "mea = mean_absolute_error(y_train,yp)\n",
    "mea1 = mean_absolute_error(y_internal_test,yp1)\n",
    "mea2 = mean_absolute_error(y_external_test,yp2)\n",
    "mea3 = mean_absolute_error(y1,yp3)"
   ]
  },
  {
   "cell_type": "code",
   "execution_count": 117,
   "metadata": {},
   "outputs": [],
   "source": [
    "yp=model.predict(x_train)\n",
    "yp1=model.predict(x_internal_test)\n",
    "yp2=model.predict(x_external_test)\n",
    "yp3=model.predict(x1)\n",
    "\n",
    "r21=r2_score(y_train,yp)\n",
    "r22=r2_score(y_internal_test,yp1)\n",
    "r23=r2_score(y_external_test,yp2)\n",
    "r24=r2_score(y1,yp3)\n",
    "\n",
    "rms = sqrt(mean_squared_error(y_train, yp))\n",
    "rms1 = sqrt(mean_squared_error(y_internal_test,yp1))\n",
    "rms2 = sqrt(mean_squared_error(y_external_test,yp2))\n",
    "rms3 = sqrt(mean_squared_error(y1,yp3))\n",
    "\n",
    "mea = mean_absolute_error(y_train,yp)\n",
    "mea1 = mean_absolute_error(y_internal_test,yp1)\n",
    "mea2 = mean_absolute_error(y_external_test,yp2)\n",
    "mea3 = mean_absolute_error(y1,yp3)"
   ]
  },
  {
   "cell_type": "code",
   "execution_count": 32,
   "metadata": {},
   "outputs": [
    {
     "data": {
      "text/plain": [
       "LinearRegression(copy_X=True, fit_intercept=True, n_jobs=None,\n",
       "         normalize=False)"
      ]
     },
     "execution_count": 32,
     "metadata": {},
     "output_type": "execute_result"
    }
   ],
   "source": [
    "from sklearn.linear_model import LinearRegression\n",
    "reg=LinearRegression()\n",
    "reg.fit(x_train,y_train)"
   ]
  },
  {
   "cell_type": "code",
   "execution_count": 33,
   "metadata": {},
   "outputs": [],
   "source": [
    "yp=reg.predict(x_train)\n",
    "yp1=reg.predict(x_internal_test)\n",
    "yp2=reg.predict(x_external_test)\n",
    "yp3=reg.predict(x1)\n",
    "\n",
    "r21=r2_score(y_train,yp)\n",
    "r22=r2_score(y_internal_test,yp1)\n",
    "r23=r2_score(y_external_test,yp2)\n",
    "r24=r2_score(y1,yp3)\n",
    "\n",
    "rms = sqrt(mean_squared_error(y_train, yp))\n",
    "rms1 = sqrt(mean_squared_error(y_internal_test,yp1))\n",
    "rms2 = sqrt(mean_squared_error(y_external_test,yp2))\n",
    "rms3 = sqrt(mean_squared_error(y1,yp3))\n",
    "\n",
    "mea = mean_absolute_error(y_train,yp)\n",
    "mea1 = mean_absolute_error(y_internal_test,yp1)\n",
    "mea2 = mean_absolute_error(y_external_test,yp2)\n",
    "mea3 = mean_absolute_error(y1,yp3)"
   ]
  },
  {
   "cell_type": "code",
   "execution_count": 110,
   "metadata": {},
   "outputs": [
    {
     "name": "stderr",
     "output_type": "stream",
     "text": [
      "C:\\Users\\admin\\Anaconda3\\lib\\site-packages\\sklearn\\ensemble\\forest.py:246: FutureWarning: The default value of n_estimators will change from 10 in version 0.20 to 100 in 0.22.\n",
      "  \"10 in version 0.20 to 100 in 0.22.\", FutureWarning)\n"
     ]
    },
    {
     "data": {
      "text/plain": [
       "RandomForestRegressor(bootstrap=True, criterion='mse', max_depth=None,\n",
       "           max_features='auto', max_leaf_nodes=None,\n",
       "           min_impurity_decrease=0.0, min_impurity_split=None,\n",
       "           min_samples_leaf=1, min_samples_split=2,\n",
       "           min_weight_fraction_leaf=0.0, n_estimators=10, n_jobs=None,\n",
       "           oob_score=False, random_state=None, verbose=0, warm_start=False)"
      ]
     },
     "execution_count": 110,
     "metadata": {},
     "output_type": "execute_result"
    }
   ],
   "source": [
    "from sklearn.ensemble import RandomForestRegressor\n",
    "clf=RandomForestRegressor()\n",
    "clf.fit(x_train,y_train)"
   ]
  },
  {
   "cell_type": "code",
   "execution_count": 111,
   "metadata": {},
   "outputs": [],
   "source": [
    "yp=clf.predict(x_train)\n",
    "yp1=clf.predict(x_internal_test)\n",
    "yp2=clf.predict(x_external_test)\n",
    "yp3=clf.predict(x1)\n",
    "\n",
    "r21=r2_score(y_train,yp)\n",
    "r22=r2_score(y_internal_test,yp1)\n",
    "r23=r2_score(y_external_test,yp2)\n",
    "r24=r2_score(y1,yp3)\n",
    "\n",
    "rms = sqrt(mean_squared_error(y_train, yp))\n",
    "rms1 = sqrt(mean_squared_error(y_internal_test,yp1))\n",
    "rms2 = sqrt(mean_squared_error(y_external_test,yp2))\n",
    "rms3 = sqrt(mean_squared_error(y1,yp3))\n",
    "\n",
    "mea = mean_absolute_error(y_train,yp)\n",
    "mea1 = mean_absolute_error(y_internal_test,yp1)\n",
    "mea2 = mean_absolute_error(y_external_test,yp2)\n",
    "mea3 = mean_absolute_error(y1,yp3)"
   ]
  },
  {
   "cell_type": "code",
   "execution_count": 105,
   "metadata": {},
   "outputs": [
    {
     "name": "stderr",
     "output_type": "stream",
     "text": [
      "C:\\Users\\admin\\Anaconda3\\lib\\site-packages\\sklearn\\ensemble\\forest.py:246: FutureWarning: The default value of n_estimators will change from 10 in version 0.20 to 100 in 0.22.\n",
      "  \"10 in version 0.20 to 100 in 0.22.\", FutureWarning)\n"
     ]
    },
    {
     "data": {
      "text/plain": [
       "ExtraTreesRegressor(bootstrap=False, criterion='mse', max_depth=None,\n",
       "          max_features='auto', max_leaf_nodes=None,\n",
       "          min_impurity_decrease=0.0, min_impurity_split=None,\n",
       "          min_samples_leaf=1, min_samples_split=2,\n",
       "          min_weight_fraction_leaf=0.0, n_estimators=10, n_jobs=None,\n",
       "          oob_score=False, random_state=None, verbose=0, warm_start=False)"
      ]
     },
     "execution_count": 105,
     "metadata": {},
     "output_type": "execute_result"
    }
   ],
   "source": [
    "from sklearn.ensemble import ExtraTreesRegressor\n",
    "et=ExtraTreesRegressor()\n",
    "et.fit(x_train,y_train)"
   ]
  },
  {
   "cell_type": "code",
   "execution_count": 106,
   "metadata": {},
   "outputs": [],
   "source": [
    "yp=et.predict(x_train)\n",
    "yp1=et.predict(x_internal_test)\n",
    "yp2=et.predict(x_external_test)\n",
    "yp3=et.predict(x1)\n",
    "\n",
    "r21=r2_score(y_train,yp)\n",
    "r22=r2_score(y_internal_test,yp1)\n",
    "r23=r2_score(y_external_test,yp2)\n",
    "r24=r2_score(y1,yp3)\n",
    "\n",
    "rms = sqrt(mean_squared_error(y_train, yp))\n",
    "rms1 = sqrt(mean_squared_error(y_internal_test,yp1))\n",
    "rms2 = sqrt(mean_squared_error(y_external_test,yp2))\n",
    "rms3 = sqrt(mean_squared_error(y1,yp3))\n",
    "\n",
    "mea = mean_absolute_error(y_train,yp)\n",
    "mea1 = mean_absolute_error(y_internal_test,yp1)\n",
    "mea2 = mean_absolute_error(y_external_test,yp2)\n",
    "mea3 = mean_absolute_error(y1,yp3)"
   ]
  },
  {
   "cell_type": "code",
   "execution_count": 118,
   "metadata": {},
   "outputs": [
    {
     "name": "stdout",
     "output_type": "stream",
     "text": [
      "r^2 test =  0.7448368017419886\n",
      "r^2 overall =  0.9008561134588218\n"
     ]
    }
   ],
   "source": [
    "print('r^2 test = ',r23)\n",
    "print('r^2 overall = ',r24)"
   ]
  },
  {
   "cell_type": "code",
   "execution_count": 119,
   "metadata": {},
   "outputs": [
    {
     "name": "stdout",
     "output_type": "stream",
     "text": [
      "RMSE (test) =  0.08069543158956947\n",
      "RMSE (overall) =  0.05585015151624722\n"
     ]
    }
   ],
   "source": [
    "print('RMSE (test) = ',rms2)\n",
    "print('RMSE (overall) = ',rms3)"
   ]
  },
  {
   "cell_type": "code",
   "execution_count": 120,
   "metadata": {},
   "outputs": [
    {
     "name": "stdout",
     "output_type": "stream",
     "text": [
      "Mean Absolute error (test) =  0.048530203174142285\n",
      "Mean Absolute error (overall) =  0.028169637058988038\n"
     ]
    }
   ],
   "source": [
    "print('Mean Absolute error (test) = ',mea2)\n",
    "print('Mean Absolute error (overall) = ',mea3)"
   ]
  },
  {
   "cell_type": "code",
   "execution_count": 115,
   "metadata": {},
   "outputs": [
    {
     "data": {
      "text/plain": [
       "[<matplotlib.lines.Line2D at 0x17071543978>]"
      ]
     },
     "execution_count": 115,
     "metadata": {},
     "output_type": "execute_result"
    },
    {
     "data": {
      "image/png": "[encoded data removed]",
      "text/plain": [
       "<Figure size 432x288 with 1 Axes>"
      ]
     },
     "metadata": {
      "needs_background": "light"
     },
     "output_type": "display_data"
    }
   ],
   "source": [
    "import matplotlib.pyplot as plt\n",
    "plt.scatter(y_external_test,yp2)\n",
    "plt.plot([-1,y_external_test.max()],[-1,yp2.max()],ls=\"--\",c=\".3\")"
   ]
  },
  {
   "cell_type": "code",
   "execution_count": null,
   "metadata": {},
   "outputs": [],
   "source": []
  }
 ],
 "metadata": {
  "kernelspec": {
   "display_name": "Python 3",
   "language": "python",
   "name": "python3"
  },
  "language_info": {
   "codemirror_mode": {
    "name": "ipython",
    "version": 3
   },
   "file_extension": ".py",
   "mimetype": "text/x-python",
   "name": "python",
   "nbconvert_exporter": "python",
   "pygments_lexer": "ipython3",
   "version": "3.7.3"
  }
 },
 "nbformat": 4,
 "nbformat_minor": 2
}
